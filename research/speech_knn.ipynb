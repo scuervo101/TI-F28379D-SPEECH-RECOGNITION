{
 "cells": [
  {
   "cell_type": "markdown",
   "metadata": {},
   "source": [
    "# EEL4511 Real-time DSP Applications Lab 9 Final Project\n",
    "\n",
    "### Samuel Cuervo\n",
    "\n",
    "### Git Repo: https://github.com/scuervo101/TI-F28379D-SPEECH-RECOGNITION\n",
    "\n",
    "## Abstract:\n",
    "Using the codec and the DSP, I will be sampling voice triggered audio and attempting to recognize what word is spoken from a set of pre-trained words. The DSP will communicate back to the user using UART and the serial console on the computer. The voice recognition engine uses MFCC, a Hamming window filter on which FFT and mel spectrum transform is applied to extract a smaller set of descriptive features, and uses a KNN model as a classification tool for determining the label (which word) the audio sample belongs to."
   ]
  },
  {
   "source": [
    "# UPDATES FROM PART 1\n",
    "\n",
    "## Mel Spectrum data\n",
    "\n",
    "I found attempting to implement MFCC from scratch was too difficult and would take a long time to process on the DSP. During testing, I found that converting the data to a Mel Spectrum would give a high accuracy (90% give or take) and could be implement on the DSP much easier. The only problem with taking the mel Spectrum is that the DSP may still take a long time to process the information.\n",
    "\n",
    "## KNN\n",
    "\n",
    "I will still be using KNN. I have given the DSP a constant float array with the training data preprocessed through the Mel Spectrum"
   ],
   "cell_type": "markdown",
   "metadata": {}
  },
  {
   "cell_type": "markdown",
   "metadata": {},
   "source": [
    "# TI-F28379D-SPEECH-RECOGNITION\n",
    "\n",
    "## DSP Speech Recognition\n",
    "\n",
    "### Notes\n",
    "\n",
    "- Planning on using KNN for the classification and MFCC feature extraction for the audio files\n",
    "- MFCC uses FFT feature extraction\n",
    "- Extracting from wav files and a test set provided by me using the microphone on the codec\n",
    "- Not sure how many test files will be needed, planning on doing 20-30 per word\n",
    "- Planning on using the TensorFlow Command Speech data set for training\n",
    "- Another possiblity is to run an FFT on the data and test its pitch (yes high pitch, no low pitch)\n",
    "- Python will handle the Pre-computation of the ML model's parameters\n",
    "\n",
    "### Functionality\n",
    "\n",
    "The dsp will be continuously sampling the microphone. When audio is detected on the microphone (threshold is surpassed), it will begin to record the sampled data into the external SRAM. After recording the data into the SRAM, it will process the data in the background (ML processing, MFCC to KNN, or FFT). Responses from the DSP will be displayed through UART and a serial console.\n",
    "\n",
    "Plans for the DSP to have a simple conversation with the user (with responses that illustrate the response ie. If answer no, DSP respond with \"why not\")\n",
    "\n",
    "*Yes* and *No* will be the words initially featured. If the DSP can handle more, will add *Hello* and *Goodbye*\n",
    "\n",
    "Conversation theme is about the DSP taking over the world. Answer improperly and flash the RED LEDs or answer correctly and flash the BLUE LEDs\n",
    "\n",
    "Using the 8 bit LEDs for debugging the state.\n",
    "\n",
    "**Logical states:** \n",
    "\n",
    "- Idle (listening and waiting for a signal or a response on the microphone)\n",
    "- Recording (Storing the sampling data into the SRAM)\n",
    "- Processing (Running ML processing or FFT(During this point either save the next signal response or don't sample))\n",
    "\n",
    "After the processing is complete, trigger the DSPs response and send it through UART"
   ]
  },
  {
   "cell_type": "markdown",
   "metadata": {},
   "source": [
    "# Python Speech Recognition Proof of Concept\n",
    "\n",
    "Below is a test implementation of the DSP speech recognition using MFCC for feature extraction and KNN for classification\n",
    "\n",
    "Testing the classification between yes and no\n",
    "\n",
    "In another notebook, I will do the proper K fold testing for finding the best possible parameters "
   ]
  },
  {
   "cell_type": "code",
   "execution_count": 477,
   "metadata": {},
   "outputs": [],
   "source": [
    "import numpy as np\n",
    "import matplotlib.pyplot as plt\n",
    "\n",
    "from scipy.io  import wavfile\n",
    "from librosa.feature import mfcc\n",
    "\n",
    "from sklearn.model_selection import train_test_split\n",
    "from sklearn.neighbors import KNeighborsClassifier\n",
    "from sklearn.model_selection import GridSearchCV"
   ]
  },
  {
   "cell_type": "markdown",
   "metadata": {},
   "source": [
    "## Data Set\n",
    "\n",
    "I created a personal data set of the words yes and no (24 samples for each word) for the proof of concept. For the final training data, I will use the larger [TensorFlow Speech Commands](https://www.tensorflow.org/datasets/catalog/speech_commands) data set.\n",
    "\n",
    "Below I import the data set\n"
   ]
  },
  {
   "cell_type": "code",
   "execution_count": 596,
   "metadata": {},
   "outputs": [
    {
     "output_type": "stream",
     "name": "stdout",
     "text": [
      "Reading data:yes_0.wav\nReading data:no_0.wav\nReading data:yes_1.wav\nReading data:no_1.wav\nReading data:yes_2.wav\nReading data:no_2.wav\nReading data:yes_3.wav\nReading data:no_3.wav\nReading data:yes_4.wav\nReading data:no_4.wav\nReading data:yes_5.wav\nReading data:no_5.wav\nReading data:yes_6.wav\nReading data:no_6.wav\nReading data:yes_7.wav\nReading data:no_7.wav\nReading data:yes_8.wav\nReading data:no_8.wav\nReading data:yes_9.wav\nReading data:no_9.wav\nReading data:yes_10.wav\nReading data:no_10.wav\nReading data:yes_11.wav\nReading data:no_11.wav\nReading data:yes_12.wav\nReading data:no_12.wav\nReading data:yes_13.wav\nReading data:no_13.wav\nReading data:yes_14.wav\nReading data:no_14.wav\nReading data:yes_15.wav\nReading data:no_15.wav\nReading data:yes_16.wav\nReading data:no_16.wav\nReading data:yes_17.wav\nReading data:no_17.wav\nReading data:yes_18.wav\nReading data:no_18.wav\nReading data:yes_19.wav\nReading data:no_19.wav\nReading data:yes_20.wav\nReading data:no_20.wav\nReading data:yes_21.wav\nReading data:no_21.wav\nReading data:yes_22.wav\nReading data:no_22.wav\nReading data:yes_23.wav\nReading data:no_23.wav\n"
     ]
    }
   ],
   "source": [
    "data = []\n",
    "labels = []\n",
    "\n",
    "# Read the sample data from DSP-DataSet\n",
    "for i in range(24):\n",
    "    print(\"Reading data:\" + \"yes_\" + str(i) + \".wav\")\n",
    "    samplerate, wav = wavfile.read(\"../../DSP-DataSet/yes_ds/yes_\" + str(i) + \".wav\")\n",
    "    data += [wav]\n",
    "    labels.append(1)\n",
    "\n",
    "    print(\"Reading data:\" + \"no_\" + str(i) + \".wav\")\n",
    "    samplerate, wav = wavfile.read(\"../../DSP-DataSet/no_ds/no_\" + str(i) + \".wav\")\n",
    "    data += [wav]\n",
    "    labels.append(0)\n",
    "\n",
    "data = np.array(data,dtype=\"float\")\n",
    "labels = np.array(labels)"
   ]
  },
  {
   "cell_type": "markdown",
   "metadata": {},
   "source": [
    "## MFCC Feature Extraction\n",
    "\n",
    "In an attempt to reduce the model complexity, MFCC will extract the top 12 coefficients that describe the audio. This reduces the size of samples from 44100 elements (1 sec audio clips) to 12 elements.\n",
    "\n",
    "The MFCC function used here is using the Librosa library. I will be creating my own MFCC function (in C) using the DSP's FFT function and by manually applying the filtering."
   ]
  },
  {
   "cell_type": "code",
   "execution_count": 480,
   "metadata": {},
   "outputs": [
    {
     "output_type": "execute_result",
     "data": {
      "text/plain": [
       "(48, 13)"
      ]
     },
     "metadata": {},
     "execution_count": 480
    }
   ],
   "source": [
    "n_fft=48\n",
    "n_mfcc = 13\n",
    "samplerate, _ = wavfile.read(\"../../DSP-DataSet/yes_ds/yes_0.wav\")\n",
    "\n",
    "features = []\n",
    "for i in range(data.shape[0]):\n",
    "    features += [mfcc(y=data[i], sr=samplerate, n_mfcc=n_mfcc, n_fft=n_fft)]\n",
    "\n",
    "features = np.array(features)\n",
    "\n",
    "processed_features = np.zeros((features.shape[0], features.shape[1]))\n",
    "\n",
    "for i in range(data.shape[0]):\n",
    "    for j in range(features.shape[1]):\n",
    "        mean = sum(features[i][j]) / len(features[i][j])\n",
    "        processed_features[i][j] = mean\n",
    "\n",
    "features = processed_features\n",
    "processed_features.shape"
   ]
  },
  {
   "cell_type": "markdown",
   "metadata": {},
   "source": [
    "## KNN Parameter Training\n",
    "\n",
    "I have to split the data set to train it with a separate group from testing. Before I can train the KNN model, I most run some form of validation to find the best parameters. I am using a sklearn function called GridSearchCV which will test parameters until it finds the best scoring set of parameters."
   ]
  },
  {
   "cell_type": "code",
   "execution_count": 481,
   "metadata": {},
   "outputs": [
    {
     "output_type": "stream",
     "name": "stdout",
     "text": [
      "13\n"
     ]
    }
   ],
   "source": [
    "features_train, features_test, labels_train, labels_test = train_test_split(features,labels,test_size=0.15)\n",
    "\n",
    "print(features_train.shape[1])\n",
    "\n",
    "# Testing parameters to find the best set\n",
    "params = {\n",
    "    \"n_neighbors\" : list(range(3, 21, 2)),\n",
    "    \"weights\" : [\"uniform\", \"distance\"],\n",
    "    \"metric\" : [\"euclidean\", \"manhattan\", \"chebyshev\"]\n",
    "}\n",
    "\n",
    "GSCV = GridSearchCV(KNeighborsClassifier(), params, verbose=1, cv=3, n_jobs=-1)"
   ]
  },
  {
   "cell_type": "code",
   "execution_count": 482,
   "metadata": {},
   "outputs": [
    {
     "output_type": "stream",
     "name": "stdout",
     "text": [
      "Fitting 3 folds for each of 54 candidates, totalling 162 fits\n",
      "[Parallel(n_jobs=-1)]: Using backend LokyBackend with 12 concurrent workers.\n",
      "[Parallel(n_jobs=-1)]: Done  26 tasks      | elapsed:   11.4s\n",
      "[Parallel(n_jobs=-1)]: Done 162 out of 162 | elapsed:   11.6s finished\n"
     ]
    }
   ],
   "source": [
    "results = GSCV.fit(features, labels)"
   ]
  },
  {
   "cell_type": "code",
   "execution_count": 483,
   "metadata": {},
   "outputs": [
    {
     "output_type": "stream",
     "name": "stdout",
     "text": [
      "The best parameters for KNN classification are: \n{'metric': 'manhattan', 'n_neighbors': 3, 'weights': 'uniform'}\n\nWith a score of: 0.9791666666666666\n"
     ]
    }
   ],
   "source": [
    "print(\"The best parameters for KNN classification are: \")\n",
    "print(results.best_params_)\n",
    "print(\"\\nWith a score of: \" + str(results.best_score_))"
   ]
  },
  {
   "cell_type": "markdown",
   "metadata": {},
   "source": [
    "### KNN Model Training\n",
    "\n",
    "After finding the best parameters, I will train the KNN model with the training data set and test it with the test data set. Once the model has been trained, I can extract the models weights to implement it in C for the DSP\n",
    "\n",
    "**Note** Due to the small sample size, the model reaches perfect accuracy which could mean it is overfitting or could be inaccurate in a real world scenerio. I will be expanding the data set later."
   ]
  },
  {
   "cell_type": "code",
   "execution_count": 484,
   "metadata": {},
   "outputs": [
    {
     "output_type": "stream",
     "name": "stdout",
     "text": [
      "Predicted labels for the test set: \n[0 1 1 0 1 1 1 1]\nExpected labels for the test set: \n[0 1 1 0 1 1 1 1]\n"
     ]
    }
   ],
   "source": [
    "knn = KNeighborsClassifier(n_neighbors=3, metric=\"euclidean\", weights=\"uniform\")\n",
    "knn = knn.fit(features_train,labels_train)\n",
    "\n",
    "pred = knn.predict(features_test)\n",
    "\n",
    "print(\"Predicted labels for the test set: \")\n",
    "print(pred)\n",
    "print(\"Expected labels for the test set: \")\n",
    "print(labels_test)"
   ]
  },
  {
   "source": [
    "# Mel Spectrum Raw Implementation\n",
    "\n",
    "This will be where I write my Mel Spectrum implementation with code that will be easy to translate to C"
   ],
   "cell_type": "markdown",
   "metadata": {}
  },
  {
   "cell_type": "code",
   "execution_count": 453,
   "metadata": {},
   "outputs": [],
   "source": [
    "# Convert from frequency to Mel scale\n",
    "def hztoMel(freq):\n",
    "    return 2595.0 * np.log10(1.0 + freq / 700.0)\n",
    "\n",
    "# Convert from Mel scale to frequency\n",
    "def meltoHz(mels):\n",
    "    return 700.0 * (10.0**(mels / 2595.0) - 1.0)\n",
    "\n",
    "# Generate the uniform Mel scale bank that relates to the freq's min and max points\n",
    "#       IE. Generate a uniform scale based off of max and min freq and then convert that back \n",
    "#       to frequency (which will not be uniform)\n",
    "#\n",
    "#       Params:\n",
    "#           bin_size : The number of bins in DFT,\n",
    "#           n_filters : The number of mel filters to include in the filterbank. Default is 20.\n",
    "#           min_freq, max_freq : The minimum and maximum freq\n",
    "#           fs : Sample rate\n",
    "def mel_filterbanks(bin_size, n_filters = 20, min_freq = 0, max_freq = fs // 2, fs = 44100):\n",
    "\n",
    "    min_mel, max_mel = hztoMel(min_freq), hztoMel(max_freq)\n",
    "\n",
    "    # Uniformly spaced values on the mel scale\n",
    "    mel_bins = np.linspace(min_mel, max_mel, n_filters + 2)\n",
    "\n",
    "    freq_bins = meltoHz(mel_bins)\n",
    "\n",
    "    hz_bins = np.linspace(0, fs / 2, 1 + bin_size // 2, endpoint=True)  # Double slash is floor divison, equal to division of ints\n",
    "\n",
    "    # Find the Filterbank\n",
    "    filter_bank = np.zeros((n_filters, 1 + bin_size // 2))\n",
    "    ramps = []\n",
    "    for i in range(freq_bins.shape[0]):\n",
    "        layer = []\n",
    "        for j in range(hz_bins.shape[0]):\n",
    "            layer.append(freq_bins[i] - hz_bins[j])\n",
    "        ramps.append(layer)\n",
    "    \n",
    "    ramps = np.array(ramps)\n",
    "\n",
    "    for i in range(n_filters):\n",
    "        left = -ramps[i] / (freq_bins[i + 1] - freq_bins[i])\n",
    "        right = ramps[i + 2] / (freq_bins[i + 2] - freq_bins[i + 1])\n",
    "    \n",
    "        reduced = np.zeros(left.shape[0])\n",
    "        for j in range(left.shape[0]):\n",
    "            if (left[j] < right[j]) and (left[j] > 0):\n",
    "                reduced[j] = left[j]\n",
    "            elif (right[j] < left[j]) and (right[j] > 0):\n",
    "                reduced[j] = right[j]\n",
    "            else:\n",
    "                reduced[j] = 0\n",
    "        filter_bank[i] = reduced\n",
    "\n",
    "    # Normalize the filter bank\n",
    "    energy_norm = np.zeros(n_filters)\n",
    "    for i in range(n_filters):\n",
    "        energy_norm[i] = 2.0 / (freq_bins[i + 2] - freq_bins[i])\n",
    "\n",
    "    for i in range(filter_bank.shape[0]):\n",
    "        for j in range(filter_bank.shape[1]):\n",
    "            filter_bank[i][j] *= energy_norm[i]\n",
    "\n",
    "    return filter_bank"
   ]
  },
  {
   "cell_type": "code",
   "execution_count": 565,
   "metadata": {},
   "outputs": [],
   "source": [
    "# Frame the signal into overlapping windows\n",
    "#   \n",
    "#       Params:\n",
    "#           x : Signal in time domain\n",
    "#           frame_width : Frame width or FFT size\n",
    "#           stride : Duration length between windows\n",
    "#           fs : Sample rate\n",
    "def frame_audio(x, frame_width, stride, fs):\n",
    "    \n",
    "    n_frames = (len(x) - frame_width) // stride + 1\n",
    "    frames = np.zeros((n_frames,frame_width))\n",
    "\n",
    "    for n in range(n_frames):\n",
    "        for i in range(frame_width):\n",
    "            frames[n][i] = x[n*stride + i]\n",
    "    \n",
    "    return frames"
   ]
  },
  {
   "cell_type": "code",
   "execution_count": 580,
   "metadata": {},
   "outputs": [],
   "source": [
    "# Compute the power spectrum by finding the magnitude spectrum using the absolute value of DFT and then squaring that\n",
    "#       \n",
    "#       Params:\n",
    "#           frames : Signal separated into frames\n",
    "def power_spectrum(frames):\n",
    "\n",
    "    spectrum = np.zeros( (frames.shape[0] , (frames.shape[1] // 2) + 1), dtype = np.float64 )\n",
    "\n",
    "    for n in range(frames.shape[0]):\n",
    "        value = np.abs(np.fft.fft(frames[n])[: (frames.shape[1] // 2) + 1])\n",
    "        spectrum[n] = value\n",
    "\n",
    "    return spectrum ** 2\n"
   ]
  },
  {
   "cell_type": "code",
   "execution_count": 581,
   "metadata": {},
   "outputs": [],
   "source": [
    "#   Mel Spectrum Helper functions\n",
    "#\n",
    "# Padding function that pads the array with mirrored elements\n",
    "def reflect_pad(x, pad):\n",
    "    y = np.zeros((2*pad + x.shape[0]))\n",
    "\n",
    "    y_it = pad - 1\n",
    "    i = x.shape[0] + 1\n",
    "    size = 0\n",
    "    while(size < pad):\n",
    "        if ((( (x.shape[0]-1) - i) % (x.shape[0]*2)) > (x.shape[0] - 1) ) and ( (i % (x.shape[0])) != 0):\n",
    "            y[y_it] = x[(i)% (x.shape[0]) ]\n",
    "            size += 1\n",
    "            y_it -= 1\n",
    "        elif ((i% (x.shape[0]) ) != 0):\n",
    "            y[y_it] = x[((x.shape[0]-1) -i) % (x.shape[0])]\n",
    "            size += 1\n",
    "            y_it -= 1\n",
    "        i += 1\n",
    "\n",
    "    y_it = pad\n",
    "    for i in range(x.shape[0]):\n",
    "        y[y_it] = x[i]\n",
    "        y_it += 1\n",
    "\n",
    "    y_it = (pad + x.shape[0])\n",
    "    i = 0\n",
    "    size = 0\n",
    "    while(size < pad):\n",
    "        if ((( (x.shape[0]-1) - i) % (x.shape[0]*2)) > (x.shape[0] - 1) ) and ( (i % (x.shape[0])) != 0):\n",
    "            y[y_it] = x[(i)% (x.shape[0]) ]\n",
    "            size += 1\n",
    "            y_it += 1\n",
    "        elif ((i% (x.shape[0]) ) != 0):\n",
    "            y[y_it] = x[((x.shape[0]-1) -i) % (x.shape[0])]\n",
    "            size += 1\n",
    "            y_it += 1\n",
    "        i += 1\n",
    "    \n",
    "    return y\n",
    "\n",
    "# Matrix multiplication function\n",
    "def matrix_mul(a,b):\n",
    "    assert a.shape[1] == b.shape[0]\n",
    "\n",
    "    result = np.zeros((a.shape[0],b.shape[1]))\n",
    "    for i in range(a.shape[0]):\n",
    "        for j in range(b.shape[1]):\n",
    "            for k in range(a.shape[1]):\n",
    "                result[i][j] += a[i][k] * b[k][j]\n",
    "    return result\n",
    "\n",
    "# Creates a hamming window of size len\n",
    "def hamming_window(len):\n",
    "\n",
    "    len += 1\n",
    "    inputs = np.linspace(-np.pi, np.pi, len)\n",
    "    window = np.zeros((len))\n",
    "\n",
    "    for i in range(len):\n",
    "        window[i] += 0.54 * np.cos(0 * inputs[i])\n",
    "        window[i] += 0.46 * np.cos(1 * inputs[i])\n",
    "\n",
    "    return window[:-1]"
   ]
  },
  {
   "cell_type": "code",
   "execution_count": 601,
   "metadata": {},
   "outputs": [],
   "source": [
    "# Apply the Mel-filterbank to the power spectrum for a signal\n",
    "#       \n",
    "#       Params:\n",
    "#           x : Signal in the time domain\n",
    "#           window_time : The length of time for each frame or window in secopnds\n",
    "#           stride_time : The length of time for each hop between consecutive windows in seconds\n",
    "#           fs : Sample rate\n",
    "def mel_spectrogram(x, window_time = 0.025, stride_time = 0.01, fs = 44100, n_filters = 20):\n",
    "\n",
    "    stride = round(stride_time * fs)\n",
    "    print(stride)\n",
    "    frame_width = round(window_time * fs)\n",
    "    print(frame_width)\n",
    "\n",
    "    # Preemphasis filter\n",
    "    #   Filter = x[] = x[] - alpha * x[-1]\n",
    "    y = np.zeros(len(x), dtype=np.float32)\n",
    "    y[0] = x[0]\n",
    "    for i in range(1, x.shape[0]):\n",
    "        y[i] = np.float32(x[i]) - 0.95 * np.float32(x[i - 1])\n",
    "\n",
    "    # Covert the signal to be be centered at x[k * stride]\n",
    "    x_pad = reflect_pad(y, frame_width // 2)\n",
    "    frames = frame_audio(x_pad, frame_width, stride, fs)\n",
    "\n",
    "    # Apply a hamming window to each frame\n",
    "    window = hamming_window(frame_width)\n",
    "    for frame in frames:\n",
    "        for i in range(frames.shape[1]):\n",
    "            frame[i] *= window[i]\n",
    "\n",
    "    # Calculate the power spectrum of the frames\n",
    "    power_spec = power_spectrum(frames)\n",
    "\n",
    "    # Sum up the frames from the power spectrum\n",
    "    frame_energies = np.zeros(power_spec.shape[0])\n",
    "    for n in range(power_spec.shape[0]):\n",
    "        for i in range(power_spec.shape[1]):\n",
    "            frame_energies[n] += power_spec[n][i]\n",
    "\n",
    "    # Compute the power at each filter in the Mel fiterbank\n",
    "    fbanks = mel_filterbanks(frame_width, n_filters=n_filters, fs=fs)\n",
    "    filter_energies = matrix_mul(power_spec,fbanks.T)\n",
    "\n",
    "    # We might want to replace every 0 with the smallest float values nearest 0 but I'll skip that for now\n",
    "    # Do this for frame_energies and filter_energies\n",
    "    return filter_energies, frame_energies"
   ]
  },
  {
   "cell_type": "code",
   "execution_count": 602,
   "metadata": {},
   "outputs": [
    {
     "output_type": "stream",
     "name": "stdout",
     "text": [
      "(10,)\n"
     ]
    },
    {
     "output_type": "display_data",
     "data": {
      "text/plain": "<Figure size 1080x288 with 1 Axes>",
      "image/svg+xml": "<?xml version=\"1.0\" encoding=\"utf-8\" standalone=\"no\"?>\r\n<!DOCTYPE svg PUBLIC \"-//W3C//DTD SVG 1.1//EN\"\r\n  \"http://www.w3.org/Graphics/SVG/1.1/DTD/svg11.dtd\">\r\n<!-- Created with matplotlib (https://matplotlib.org/) -->\r\n<svg height=\"248.518125pt\" version=\"1.1\" viewBox=\"0 0 874.303125 248.518125\" width=\"874.303125pt\" xmlns=\"http://www.w3.org/2000/svg\" xmlns:xlink=\"http://www.w3.org/1999/xlink\">\r\n <defs>\r\n  <style type=\"text/css\">\r\n*{stroke-linecap:butt;stroke-linejoin:round;}\r\n  </style>\r\n </defs>\r\n <g id=\"figure_1\">\r\n  <g id=\"patch_1\">\r\n   <path d=\"M 0 248.518125 \r\nL 874.303125 248.518125 \r\nL 874.303125 0 \r\nL 0 0 \r\nz\r\n\" style=\"fill:none;\"/>\r\n  </g>\r\n  <g id=\"axes_1\">\r\n   <g id=\"patch_2\">\r\n    <path d=\"M 30.103125 224.64 \r\nL 867.103125 224.64 \r\nL 867.103125 7.2 \r\nL 30.103125 7.2 \r\nz\r\n\" style=\"fill:#ffffff;\"/>\r\n   </g>\r\n   <g id=\"matplotlib.axis_1\">\r\n    <g id=\"xtick_1\">\r\n     <g id=\"line2d_1\">\r\n      <path clip-path=\"url(#p460ee0eb72)\" d=\"M 68.14858 224.64 \r\nL 68.14858 7.2 \r\n\" style=\"fill:none;stroke:#b0b0b0;stroke-linecap:square;stroke-width:0.8;\"/>\r\n     </g>\r\n     <g id=\"line2d_2\">\r\n      <defs>\r\n       <path d=\"M 0 0 \r\nL 0 3.5 \r\n\" id=\"m0c86a0b61b\" style=\"stroke:#000000;stroke-width:0.8;\"/>\r\n      </defs>\r\n      <g>\r\n       <use style=\"stroke:#000000;stroke-width:0.8;\" x=\"68.14858\" xlink:href=\"#m0c86a0b61b\" y=\"224.64\"/>\r\n      </g>\r\n     </g>\r\n     <g id=\"text_1\">\r\n      <!-- 0 -->\r\n      <defs>\r\n       <path d=\"M 31.78125 66.40625 \r\nQ 24.171875 66.40625 20.328125 58.90625 \r\nQ 16.5 51.421875 16.5 36.375 \r\nQ 16.5 21.390625 20.328125 13.890625 \r\nQ 24.171875 6.390625 31.78125 6.390625 \r\nQ 39.453125 6.390625 43.28125 13.890625 \r\nQ 47.125 21.390625 47.125 36.375 \r\nQ 47.125 51.421875 43.28125 58.90625 \r\nQ 39.453125 66.40625 31.78125 66.40625 \r\nz\r\nM 31.78125 74.21875 \r\nQ 44.046875 74.21875 50.515625 64.515625 \r\nQ 56.984375 54.828125 56.984375 36.375 \r\nQ 56.984375 17.96875 50.515625 8.265625 \r\nQ 44.046875 -1.421875 31.78125 -1.421875 \r\nQ 19.53125 -1.421875 13.0625 8.265625 \r\nQ 6.59375 17.96875 6.59375 36.375 \r\nQ 6.59375 54.828125 13.0625 64.515625 \r\nQ 19.53125 74.21875 31.78125 74.21875 \r\nz\r\n\" id=\"DejaVuSans-48\"/>\r\n      </defs>\r\n      <g transform=\"translate(64.96733 239.238437)scale(0.1 -0.1)\">\r\n       <use xlink:href=\"#DejaVuSans-48\"/>\r\n      </g>\r\n     </g>\r\n    </g>\r\n    <g id=\"xtick_2\">\r\n     <g id=\"line2d_3\">\r\n      <path clip-path=\"url(#p460ee0eb72)\" d=\"M 206.370031 224.64 \r\nL 206.370031 7.2 \r\n\" style=\"fill:none;stroke:#b0b0b0;stroke-linecap:square;stroke-width:0.8;\"/>\r\n     </g>\r\n     <g id=\"line2d_4\">\r\n      <g>\r\n       <use style=\"stroke:#000000;stroke-width:0.8;\" x=\"206.370031\" xlink:href=\"#m0c86a0b61b\" y=\"224.64\"/>\r\n      </g>\r\n     </g>\r\n     <g id=\"text_2\">\r\n      <!-- 200 -->\r\n      <defs>\r\n       <path d=\"M 19.1875 8.296875 \r\nL 53.609375 8.296875 \r\nL 53.609375 0 \r\nL 7.328125 0 \r\nL 7.328125 8.296875 \r\nQ 12.9375 14.109375 22.625 23.890625 \r\nQ 32.328125 33.6875 34.8125 36.53125 \r\nQ 39.546875 41.84375 41.421875 45.53125 \r\nQ 43.3125 49.21875 43.3125 52.78125 \r\nQ 43.3125 58.59375 39.234375 62.25 \r\nQ 35.15625 65.921875 28.609375 65.921875 \r\nQ 23.96875 65.921875 18.8125 64.3125 \r\nQ 13.671875 62.703125 7.8125 59.421875 \r\nL 7.8125 69.390625 \r\nQ 13.765625 71.78125 18.9375 73 \r\nQ 24.125 74.21875 28.421875 74.21875 \r\nQ 39.75 74.21875 46.484375 68.546875 \r\nQ 53.21875 62.890625 53.21875 53.421875 \r\nQ 53.21875 48.921875 51.53125 44.890625 \r\nQ 49.859375 40.875 45.40625 35.40625 \r\nQ 44.1875 33.984375 37.640625 27.21875 \r\nQ 31.109375 20.453125 19.1875 8.296875 \r\nz\r\n\" id=\"DejaVuSans-50\"/>\r\n      </defs>\r\n      <g transform=\"translate(196.826281 239.238437)scale(0.1 -0.1)\">\r\n       <use xlink:href=\"#DejaVuSans-50\"/>\r\n       <use x=\"63.623047\" xlink:href=\"#DejaVuSans-48\"/>\r\n       <use x=\"127.246094\" xlink:href=\"#DejaVuSans-48\"/>\r\n      </g>\r\n     </g>\r\n    </g>\r\n    <g id=\"xtick_3\">\r\n     <g id=\"line2d_5\">\r\n      <path clip-path=\"url(#p460ee0eb72)\" d=\"M 344.591483 224.64 \r\nL 344.591483 7.2 \r\n\" style=\"fill:none;stroke:#b0b0b0;stroke-linecap:square;stroke-width:0.8;\"/>\r\n     </g>\r\n     <g id=\"line2d_6\">\r\n      <g>\r\n       <use style=\"stroke:#000000;stroke-width:0.8;\" x=\"344.591483\" xlink:href=\"#m0c86a0b61b\" y=\"224.64\"/>\r\n      </g>\r\n     </g>\r\n     <g id=\"text_3\">\r\n      <!-- 400 -->\r\n      <defs>\r\n       <path d=\"M 37.796875 64.3125 \r\nL 12.890625 25.390625 \r\nL 37.796875 25.390625 \r\nz\r\nM 35.203125 72.90625 \r\nL 47.609375 72.90625 \r\nL 47.609375 25.390625 \r\nL 58.015625 25.390625 \r\nL 58.015625 17.1875 \r\nL 47.609375 17.1875 \r\nL 47.609375 0 \r\nL 37.796875 0 \r\nL 37.796875 17.1875 \r\nL 4.890625 17.1875 \r\nL 4.890625 26.703125 \r\nz\r\n\" id=\"DejaVuSans-52\"/>\r\n      </defs>\r\n      <g transform=\"translate(335.047733 239.238437)scale(0.1 -0.1)\">\r\n       <use xlink:href=\"#DejaVuSans-52\"/>\r\n       <use x=\"63.623047\" xlink:href=\"#DejaVuSans-48\"/>\r\n       <use x=\"127.246094\" xlink:href=\"#DejaVuSans-48\"/>\r\n      </g>\r\n     </g>\r\n    </g>\r\n    <g id=\"xtick_4\">\r\n     <g id=\"line2d_7\">\r\n      <path clip-path=\"url(#p460ee0eb72)\" d=\"M 482.812934 224.64 \r\nL 482.812934 7.2 \r\n\" style=\"fill:none;stroke:#b0b0b0;stroke-linecap:square;stroke-width:0.8;\"/>\r\n     </g>\r\n     <g id=\"line2d_8\">\r\n      <g>\r\n       <use style=\"stroke:#000000;stroke-width:0.8;\" x=\"482.812934\" xlink:href=\"#m0c86a0b61b\" y=\"224.64\"/>\r\n      </g>\r\n     </g>\r\n     <g id=\"text_4\">\r\n      <!-- 600 -->\r\n      <defs>\r\n       <path d=\"M 33.015625 40.375 \r\nQ 26.375 40.375 22.484375 35.828125 \r\nQ 18.609375 31.296875 18.609375 23.390625 \r\nQ 18.609375 15.53125 22.484375 10.953125 \r\nQ 26.375 6.390625 33.015625 6.390625 \r\nQ 39.65625 6.390625 43.53125 10.953125 \r\nQ 47.40625 15.53125 47.40625 23.390625 \r\nQ 47.40625 31.296875 43.53125 35.828125 \r\nQ 39.65625 40.375 33.015625 40.375 \r\nz\r\nM 52.59375 71.296875 \r\nL 52.59375 62.3125 \r\nQ 48.875 64.0625 45.09375 64.984375 \r\nQ 41.3125 65.921875 37.59375 65.921875 \r\nQ 27.828125 65.921875 22.671875 59.328125 \r\nQ 17.53125 52.734375 16.796875 39.40625 \r\nQ 19.671875 43.65625 24.015625 45.921875 \r\nQ 28.375 48.1875 33.59375 48.1875 \r\nQ 44.578125 48.1875 50.953125 41.515625 \r\nQ 57.328125 34.859375 57.328125 23.390625 \r\nQ 57.328125 12.15625 50.6875 5.359375 \r\nQ 44.046875 -1.421875 33.015625 -1.421875 \r\nQ 20.359375 -1.421875 13.671875 8.265625 \r\nQ 6.984375 17.96875 6.984375 36.375 \r\nQ 6.984375 53.65625 15.1875 63.9375 \r\nQ 23.390625 74.21875 37.203125 74.21875 \r\nQ 40.921875 74.21875 44.703125 73.484375 \r\nQ 48.484375 72.75 52.59375 71.296875 \r\nz\r\n\" id=\"DejaVuSans-54\"/>\r\n      </defs>\r\n      <g transform=\"translate(473.269184 239.238437)scale(0.1 -0.1)\">\r\n       <use xlink:href=\"#DejaVuSans-54\"/>\r\n       <use x=\"63.623047\" xlink:href=\"#DejaVuSans-48\"/>\r\n       <use x=\"127.246094\" xlink:href=\"#DejaVuSans-48\"/>\r\n      </g>\r\n     </g>\r\n    </g>\r\n    <g id=\"xtick_5\">\r\n     <g id=\"line2d_9\">\r\n      <path clip-path=\"url(#p460ee0eb72)\" d=\"M 621.034386 224.64 \r\nL 621.034386 7.2 \r\n\" style=\"fill:none;stroke:#b0b0b0;stroke-linecap:square;stroke-width:0.8;\"/>\r\n     </g>\r\n     <g id=\"line2d_10\">\r\n      <g>\r\n       <use style=\"stroke:#000000;stroke-width:0.8;\" x=\"621.034386\" xlink:href=\"#m0c86a0b61b\" y=\"224.64\"/>\r\n      </g>\r\n     </g>\r\n     <g id=\"text_5\">\r\n      <!-- 800 -->\r\n      <defs>\r\n       <path d=\"M 31.78125 34.625 \r\nQ 24.75 34.625 20.71875 30.859375 \r\nQ 16.703125 27.09375 16.703125 20.515625 \r\nQ 16.703125 13.921875 20.71875 10.15625 \r\nQ 24.75 6.390625 31.78125 6.390625 \r\nQ 38.8125 6.390625 42.859375 10.171875 \r\nQ 46.921875 13.96875 46.921875 20.515625 \r\nQ 46.921875 27.09375 42.890625 30.859375 \r\nQ 38.875 34.625 31.78125 34.625 \r\nz\r\nM 21.921875 38.8125 \r\nQ 15.578125 40.375 12.03125 44.71875 \r\nQ 8.5 49.078125 8.5 55.328125 \r\nQ 8.5 64.0625 14.71875 69.140625 \r\nQ 20.953125 74.21875 31.78125 74.21875 \r\nQ 42.671875 74.21875 48.875 69.140625 \r\nQ 55.078125 64.0625 55.078125 55.328125 \r\nQ 55.078125 49.078125 51.53125 44.71875 \r\nQ 48 40.375 41.703125 38.8125 \r\nQ 48.828125 37.15625 52.796875 32.3125 \r\nQ 56.78125 27.484375 56.78125 20.515625 \r\nQ 56.78125 9.90625 50.3125 4.234375 \r\nQ 43.84375 -1.421875 31.78125 -1.421875 \r\nQ 19.734375 -1.421875 13.25 4.234375 \r\nQ 6.78125 9.90625 6.78125 20.515625 \r\nQ 6.78125 27.484375 10.78125 32.3125 \r\nQ 14.796875 37.15625 21.921875 38.8125 \r\nz\r\nM 18.3125 54.390625 \r\nQ 18.3125 48.734375 21.84375 45.5625 \r\nQ 25.390625 42.390625 31.78125 42.390625 \r\nQ 38.140625 42.390625 41.71875 45.5625 \r\nQ 45.3125 48.734375 45.3125 54.390625 \r\nQ 45.3125 60.0625 41.71875 63.234375 \r\nQ 38.140625 66.40625 31.78125 66.40625 \r\nQ 25.390625 66.40625 21.84375 63.234375 \r\nQ 18.3125 60.0625 18.3125 54.390625 \r\nz\r\n\" id=\"DejaVuSans-56\"/>\r\n      </defs>\r\n      <g transform=\"translate(611.490636 239.238437)scale(0.1 -0.1)\">\r\n       <use xlink:href=\"#DejaVuSans-56\"/>\r\n       <use x=\"63.623047\" xlink:href=\"#DejaVuSans-48\"/>\r\n       <use x=\"127.246094\" xlink:href=\"#DejaVuSans-48\"/>\r\n      </g>\r\n     </g>\r\n    </g>\r\n    <g id=\"xtick_6\">\r\n     <g id=\"line2d_11\">\r\n      <path clip-path=\"url(#p460ee0eb72)\" d=\"M 759.255837 224.64 \r\nL 759.255837 7.2 \r\n\" style=\"fill:none;stroke:#b0b0b0;stroke-linecap:square;stroke-width:0.8;\"/>\r\n     </g>\r\n     <g id=\"line2d_12\">\r\n      <g>\r\n       <use style=\"stroke:#000000;stroke-width:0.8;\" x=\"759.255837\" xlink:href=\"#m0c86a0b61b\" y=\"224.64\"/>\r\n      </g>\r\n     </g>\r\n     <g id=\"text_6\">\r\n      <!-- 1000 -->\r\n      <defs>\r\n       <path d=\"M 12.40625 8.296875 \r\nL 28.515625 8.296875 \r\nL 28.515625 63.921875 \r\nL 10.984375 60.40625 \r\nL 10.984375 69.390625 \r\nL 28.421875 72.90625 \r\nL 38.28125 72.90625 \r\nL 38.28125 8.296875 \r\nL 54.390625 8.296875 \r\nL 54.390625 0 \r\nL 12.40625 0 \r\nz\r\n\" id=\"DejaVuSans-49\"/>\r\n      </defs>\r\n      <g transform=\"translate(746.530837 239.238437)scale(0.1 -0.1)\">\r\n       <use xlink:href=\"#DejaVuSans-49\"/>\r\n       <use x=\"63.623047\" xlink:href=\"#DejaVuSans-48\"/>\r\n       <use x=\"127.246094\" xlink:href=\"#DejaVuSans-48\"/>\r\n       <use x=\"190.869141\" xlink:href=\"#DejaVuSans-48\"/>\r\n      </g>\r\n     </g>\r\n    </g>\r\n   </g>\r\n   <g id=\"matplotlib.axis_2\">\r\n    <g id=\"ytick_1\">\r\n     <g id=\"line2d_13\">\r\n      <path clip-path=\"url(#p460ee0eb72)\" d=\"M 30.103125 188.972964 \r\nL 867.103125 188.972964 \r\n\" style=\"fill:none;stroke:#b0b0b0;stroke-linecap:square;stroke-width:0.8;\"/>\r\n     </g>\r\n     <g id=\"line2d_14\">\r\n      <defs>\r\n       <path d=\"M 0 0 \r\nL -3.5 0 \r\n\" id=\"m76d7341e95\" style=\"stroke:#000000;stroke-width:0.8;\"/>\r\n      </defs>\r\n      <g>\r\n       <use style=\"stroke:#000000;stroke-width:0.8;\" x=\"30.103125\" xlink:href=\"#m76d7341e95\" y=\"188.972964\"/>\r\n      </g>\r\n     </g>\r\n     <g id=\"text_7\">\r\n      <!-- 0.2 -->\r\n      <defs>\r\n       <path d=\"M 10.6875 12.40625 \r\nL 21 12.40625 \r\nL 21 0 \r\nL 10.6875 0 \r\nz\r\n\" id=\"DejaVuSans-46\"/>\r\n      </defs>\r\n      <g transform=\"translate(7.2 192.772183)scale(0.1 -0.1)\">\r\n       <use xlink:href=\"#DejaVuSans-48\"/>\r\n       <use x=\"63.623047\" xlink:href=\"#DejaVuSans-46\"/>\r\n       <use x=\"95.410156\" xlink:href=\"#DejaVuSans-50\"/>\r\n      </g>\r\n     </g>\r\n    </g>\r\n    <g id=\"ytick_2\">\r\n     <g id=\"line2d_15\">\r\n      <path clip-path=\"url(#p460ee0eb72)\" d=\"M 30.103125 146.000632 \r\nL 867.103125 146.000632 \r\n\" style=\"fill:none;stroke:#b0b0b0;stroke-linecap:square;stroke-width:0.8;\"/>\r\n     </g>\r\n     <g id=\"line2d_16\">\r\n      <g>\r\n       <use style=\"stroke:#000000;stroke-width:0.8;\" x=\"30.103125\" xlink:href=\"#m76d7341e95\" y=\"146.000632\"/>\r\n      </g>\r\n     </g>\r\n     <g id=\"text_8\">\r\n      <!-- 0.4 -->\r\n      <g transform=\"translate(7.2 149.799851)scale(0.1 -0.1)\">\r\n       <use xlink:href=\"#DejaVuSans-48\"/>\r\n       <use x=\"63.623047\" xlink:href=\"#DejaVuSans-46\"/>\r\n       <use x=\"95.410156\" xlink:href=\"#DejaVuSans-52\"/>\r\n      </g>\r\n     </g>\r\n    </g>\r\n    <g id=\"ytick_3\">\r\n     <g id=\"line2d_17\">\r\n      <path clip-path=\"url(#p460ee0eb72)\" d=\"M 30.103125 103.0283 \r\nL 867.103125 103.0283 \r\n\" style=\"fill:none;stroke:#b0b0b0;stroke-linecap:square;stroke-width:0.8;\"/>\r\n     </g>\r\n     <g id=\"line2d_18\">\r\n      <g>\r\n       <use style=\"stroke:#000000;stroke-width:0.8;\" x=\"30.103125\" xlink:href=\"#m76d7341e95\" y=\"103.0283\"/>\r\n      </g>\r\n     </g>\r\n     <g id=\"text_9\">\r\n      <!-- 0.6 -->\r\n      <g transform=\"translate(7.2 106.827519)scale(0.1 -0.1)\">\r\n       <use xlink:href=\"#DejaVuSans-48\"/>\r\n       <use x=\"63.623047\" xlink:href=\"#DejaVuSans-46\"/>\r\n       <use x=\"95.410156\" xlink:href=\"#DejaVuSans-54\"/>\r\n      </g>\r\n     </g>\r\n    </g>\r\n    <g id=\"ytick_4\">\r\n     <g id=\"line2d_19\">\r\n      <path clip-path=\"url(#p460ee0eb72)\" d=\"M 30.103125 60.055968 \r\nL 867.103125 60.055968 \r\n\" style=\"fill:none;stroke:#b0b0b0;stroke-linecap:square;stroke-width:0.8;\"/>\r\n     </g>\r\n     <g id=\"line2d_20\">\r\n      <g>\r\n       <use style=\"stroke:#000000;stroke-width:0.8;\" x=\"30.103125\" xlink:href=\"#m76d7341e95\" y=\"60.055968\"/>\r\n      </g>\r\n     </g>\r\n     <g id=\"text_10\">\r\n      <!-- 0.8 -->\r\n      <g transform=\"translate(7.2 63.855187)scale(0.1 -0.1)\">\r\n       <use xlink:href=\"#DejaVuSans-48\"/>\r\n       <use x=\"63.623047\" xlink:href=\"#DejaVuSans-46\"/>\r\n       <use x=\"95.410156\" xlink:href=\"#DejaVuSans-56\"/>\r\n      </g>\r\n     </g>\r\n    </g>\r\n    <g id=\"ytick_5\">\r\n     <g id=\"line2d_21\">\r\n      <path clip-path=\"url(#p460ee0eb72)\" d=\"M 30.103125 17.083636 \r\nL 867.103125 17.083636 \r\n\" style=\"fill:none;stroke:#b0b0b0;stroke-linecap:square;stroke-width:0.8;\"/>\r\n     </g>\r\n     <g id=\"line2d_22\">\r\n      <g>\r\n       <use style=\"stroke:#000000;stroke-width:0.8;\" x=\"30.103125\" xlink:href=\"#m76d7341e95\" y=\"17.083636\"/>\r\n      </g>\r\n     </g>\r\n     <g id=\"text_11\">\r\n      <!-- 1.0 -->\r\n      <g transform=\"translate(7.2 20.882855)scale(0.1 -0.1)\">\r\n       <use xlink:href=\"#DejaVuSans-49\"/>\r\n       <use x=\"63.623047\" xlink:href=\"#DejaVuSans-46\"/>\r\n       <use x=\"95.410156\" xlink:href=\"#DejaVuSans-48\"/>\r\n      </g>\r\n     </g>\r\n    </g>\r\n   </g>\r\n   <g id=\"line2d_23\">\r\n    <path clip-path=\"url(#p460ee0eb72)\" d=\"M 68.14858 214.756364 \r\nL 73.677438 214.653565 \r\nL 79.206296 214.345382 \r\nL 84.735154 213.832457 \r\nL 90.264012 213.115856 \r\nL 95.79287 212.19707 \r\nL 102.012835 210.924158 \r\nL 108.232801 209.401137 \r\nL 114.452766 207.632016 \r\nL 120.672731 205.621454 \r\nL 126.892696 203.374743 \r\nL 133.112662 200.897798 \r\nL 139.332627 198.19714 \r\nL 146.2437 194.942695 \r\nL 153.154772 191.43143 \r\nL 160.065845 187.674754 \r\nL 167.668025 183.273558 \r\nL 175.270205 178.607511 \r\nL 183.563492 173.236805 \r\nL 191.856779 167.59789 \r\nL 200.841173 161.217032 \r\nL 210.516675 154.068193 \r\nL 221.574391 145.603343 \r\nL 234.014321 135.788904 \r\nL 250.600896 122.395922 \r\nL 285.847366 93.848362 \r\nL 298.287296 84.094512 \r\nL 309.345013 75.70247 \r\nL 319.020514 68.631478 \r\nL 328.004909 62.334275 \r\nL 336.298196 56.781891 \r\nL 344.591483 51.506237 \r\nL 352.193663 46.93443 \r\nL 359.795842 42.63389 \r\nL 366.706915 38.973958 \r\nL 373.617988 35.564097 \r\nL 380.52906 32.415391 \r\nL 386.749025 29.813317 \r\nL 392.968991 27.437929 \r\nL 399.188956 25.295479 \r\nL 405.408921 23.391609 \r\nL 411.628887 21.731329 \r\nL 417.848852 20.319011 \r\nL 424.068817 19.158373 \r\nL 429.597675 18.340467 \r\nL 435.126533 17.725544 \r\nL 440.655392 17.314884 \r\nL 446.18425 17.109339 \r\nL 451.713108 17.109339 \r\nL 457.241966 17.314884 \r\nL 462.770824 17.725544 \r\nL 468.299682 18.340467 \r\nL 473.82854 19.158373 \r\nL 479.357398 20.177561 \r\nL 485.577363 21.562086 \r\nL 491.797329 23.195018 \r\nL 498.017294 25.072059 \r\nL 504.237259 27.188267 \r\nL 510.457225 29.538071 \r\nL 516.67719 32.115285 \r\nL 523.588262 35.237299 \r\nL 530.499335 38.621529 \r\nL 537.410408 42.256977 \r\nL 544.32148 46.131827 \r\nL 551.92366 50.655619 \r\nL 559.52584 55.436047 \r\nL 567.819127 60.921636 \r\nL 576.803521 67.153945 \r\nL 585.787916 73.65405 \r\nL 596.154525 81.440238 \r\nL 607.903348 90.566141 \r\nL 621.725493 101.600625 \r\nL 645.22314 120.708108 \r\nL 665.26525 136.891634 \r\nL 678.396288 147.21146 \r\nL 689.454004 155.622115 \r\nL 699.129506 162.712915 \r\nL 708.1139 169.03134 \r\nL 716.407187 174.60563 \r\nL 724.700475 179.905306 \r\nL 732.302654 184.500898 \r\nL 739.904834 188.826814 \r\nL 746.815907 192.511112 \r\nL 753.726979 195.946492 \r\nL 760.638052 199.121789 \r\nL 766.858017 201.748638 \r\nL 773.077983 204.149533 \r\nL 779.297948 206.318155 \r\nL 785.517913 208.248793 \r\nL 791.737879 209.936366 \r\nL 797.957844 211.376431 \r\nL 804.177809 212.565197 \r\nL 809.706667 213.408364 \r\nL 815.235525 214.048739 \r\nL 820.764383 214.484988 \r\nL 826.293241 214.716204 \r\nL 829.05767 214.754757 \r\nL 829.05767 214.754757 \r\n\" style=\"fill:none;stroke:#1f77b4;stroke-linecap:square;stroke-width:1.5;\"/>\r\n   </g>\r\n   <g id=\"patch_3\">\r\n    <path d=\"M 30.103125 224.64 \r\nL 30.103125 7.2 \r\n\" style=\"fill:none;stroke:#000000;stroke-linecap:square;stroke-linejoin:miter;stroke-width:0.8;\"/>\r\n   </g>\r\n   <g id=\"patch_4\">\r\n    <path d=\"M 867.103125 224.64 \r\nL 867.103125 7.2 \r\n\" style=\"fill:none;stroke:#000000;stroke-linecap:square;stroke-linejoin:miter;stroke-width:0.8;\"/>\r\n   </g>\r\n   <g id=\"patch_5\">\r\n    <path d=\"M 30.103125 224.64 \r\nL 867.103125 224.64 \r\n\" style=\"fill:none;stroke:#000000;stroke-linecap:square;stroke-linejoin:miter;stroke-width:0.8;\"/>\r\n   </g>\r\n   <g id=\"patch_6\">\r\n    <path d=\"M 30.103125 7.2 \r\nL 867.103125 7.2 \r\n\" style=\"fill:none;stroke:#000000;stroke-linecap:square;stroke-linejoin:miter;stroke-width:0.8;\"/>\r\n   </g>\r\n  </g>\r\n </g>\r\n <defs>\r\n  <clipPath id=\"p460ee0eb72\">\r\n   <rect height=\"217.44\" width=\"837\" x=\"30.103125\" y=\"7.2\"/>\r\n  </clipPath>\r\n </defs>\r\n</svg>\r\n",
      "image/png": "[encoded data removed]"
     },
     "metadata": {
      "needs_background": "light"
     }
    }
   ],
   "source": [
    "# fbanks = mel_filterbanks(512, n_filters = 20, max_freq = 22000, fs = 44000)\n",
    "x = np.array([0] * 22050)\n",
    "x = np.append(x, [1] * 11025)\n",
    "x = np.append(x, [2] * 11025)\n",
    "\n",
    "frame_width = 1102\n",
    "stride = 441\n",
    "\n",
    "window = hamming_window(frame_width)\n",
    "plt.figure(figsize=(15,4))\n",
    "plt.plot(window)\n",
    "plt.grid(True)\n",
    "\n",
    "# mfcc(x)\n",
    "filter_energies, frame_energies = mel_spectrogram(x,window_time = 0.25, stride_time = 0.1, fs = 44100)\n",
    "print(frame_energies.shape)\n",
    "# x_pad = reflect_pad(x, frame_width // 2)\n",
    "# y_pad = np.pad(x, frame_width // 2, \"reflect\")\n",
    "# frames = frame_audio(x_pad,frame_width,stride,fs)\n"
   ]
  },
  {
   "source": [
    "# KNN Raw Implementation\n",
    "\n",
    "This will be where I write my KNN implementation with code that will be easy to translate to C"
   ],
   "cell_type": "markdown",
   "metadata": {}
  },
  {
   "cell_type": "code",
   "execution_count": 606,
   "metadata": {},
   "outputs": [],
   "source": [
    "def KNN(k, test_d, train_d, train_l):\n",
    "    \n",
    "    predicted_l = []\n",
    "    dist_l = train_l.copy()\n",
    "\n",
    "    for t_p in test_d:\n",
    "        dist_l = train_l.copy()\n",
    "        distance  = []\n",
    "\n",
    "        # Find the distance of each point\n",
    "        for tr_p in train_d:\n",
    "            innersum = 0\n",
    "            for i in range(train_d.shape[1]):\n",
    "                 innersum += (t_p[i] - tr_p[i])**2\n",
    "            distance.append( innersum**0.5 ) \n",
    "            \n",
    "        # Sort Smallest to Largest Values\n",
    "        for i in range(len(distance)):\n",
    "            already_sorted = True\n",
    "\n",
    "            for j in range(len(distance) - i - 1):\n",
    "                if distance[j] > distance[j + 1]:\n",
    "                    # If the item you're looking at is greater than its\n",
    "                    # adjacent value, then swap them\n",
    "                    distance[j], distance[j + 1] = distance[j + 1], distance[j]\n",
    "                    dist_l[j], dist_l[j + 1] = dist_l[j + 1], dist_l[j]\n",
    "\n",
    "                    already_sorted = False\n",
    "\n",
    "            if already_sorted:\n",
    "                break\n",
    "                \n",
    "        # Tally the votes using the labels previously saved\n",
    "        vote = [0,0]\n",
    "        vote[dist_l[0]] += 1\n",
    "        vote[dist_l[1]] += 1\n",
    "        vote[dist_l[2]] += 1\n",
    "            \n",
    "        if vote[0] > vote[1]:\n",
    "            predicted_l.append(0)\n",
    "        else:\n",
    "            predicted_l.append(1)\n",
    "        \n",
    "    return predicted_l"
   ]
  },
  {
   "cell_type": "code",
   "execution_count": 607,
   "metadata": {},
   "outputs": [
    {
     "output_type": "stream",
     "name": "stdout",
     "text": [
      "Predicted labels for the test set: \n[1, 0, 0, 1, 1, 0, 0, 0]\nExpected labels for the test set: \n[1 0 1 1 1 0 0 0]\n"
     ]
    }
   ],
   "source": [
    "# Test KNN function\n",
    "\n",
    "pred = KNN(3, features_test, features_train, labels_train)\n",
    "\n",
    "print(\"Predicted labels for the test set: \")\n",
    "print(pred)\n",
    "print(\"Expected labels for the test set: \")\n",
    "print(labels_test)"
   ]
  },
  {
   "source": [
    "# MEL Spectrum test\n",
    "\n",
    "A emergency test to see if Mel Spectrum would work for pre-processing"
   ],
   "cell_type": "markdown",
   "metadata": {}
  },
  {
   "cell_type": "code",
   "execution_count": 611,
   "metadata": {},
   "outputs": [
    {
     "output_type": "stream",
     "name": "stdout",
     "text": [
      "(48, 10)\n"
     ]
    }
   ],
   "source": [
    "# Mel spectrum test\n",
    "mel_set = np.zeros((data.shape[0],10))\n",
    "for i in range(data.shape[0]):\n",
    "    __, frame_energies = mel_spectrogram(data[i],window_time = 0.25, stride_time = 0.1, fs = 44100)\n",
    "    mel_set[i] = frame_energies\n",
    "\n",
    "print(mel_set.shape)"
   ]
  },
  {
   "cell_type": "code",
   "execution_count": 612,
   "metadata": {},
   "outputs": [
    {
     "output_type": "stream",
     "name": "stdout",
     "text": [
      "float64\n"
     ]
    }
   ],
   "source": [
    "features_train, features_test, labels_train, labels_test = train_test_split(mel_set,labels,test_size=0.15)\n",
    "\n",
    "print(features_train.dtype)\n",
    "\n",
    "# Testing parameters to find the best set\n",
    "params = {\n",
    "    \"n_neighbors\" : list(range(3, 21, 2)),\n",
    "    \"weights\" : [\"uniform\", \"distance\"],\n",
    "    \"metric\" : [\"euclidean\", \"manhattan\", \"chebyshev\"]\n",
    "}\n",
    "\n",
    "GSCV = GridSearchCV(KNeighborsClassifier(), params, verbose=1, cv=3, n_jobs=-1)"
   ]
  },
  {
   "cell_type": "code",
   "execution_count": 613,
   "metadata": {},
   "outputs": [
    {
     "output_type": "stream",
     "name": "stdout",
     "text": [
      "Fitting 3 folds for each of 54 candidates, totalling 162 fits\n",
      "[Parallel(n_jobs=-1)]: Using backend LokyBackend with 12 concurrent workers.\n",
      "The best parameters for KNN classification are: \n",
      "{'metric': 'chebyshev', 'n_neighbors': 3, 'weights': 'uniform'}\n",
      "\n",
      "With a score of: 0.9583333333333334\n",
      "[Parallel(n_jobs=-1)]: Done  26 tasks      | elapsed:    4.3s\n",
      "[Parallel(n_jobs=-1)]: Done 162 out of 162 | elapsed:    4.5s finished\n"
     ]
    }
   ],
   "source": [
    "results = GSCV.fit(mel_set, labels)\n",
    "\n",
    "print(\"The best parameters for KNN classification are: \")\n",
    "print(results.best_params_)\n",
    "print(\"\\nWith a score of: \" + str(results.best_score_))"
   ]
  },
  {
   "cell_type": "code",
   "execution_count": 614,
   "metadata": {},
   "outputs": [
    {
     "output_type": "stream",
     "name": "stdout",
     "text": [
      "Predicted labels for the test set: \n[0 0 1 1 0 0 1 0]\nExpected labels for the test set: \n[0 0 1 1 0 1 1 0]\n"
     ]
    }
   ],
   "source": [
    "knn = KNeighborsClassifier(n_neighbors=3, metric=\"euclidean\", weights=\"uniform\")\n",
    "knn = knn.fit(features_train,labels_train)\n",
    "\n",
    "pred = knn.predict(features_test)\n",
    "\n",
    "print(\"Predicted labels for the test set: \")\n",
    "print(pred)\n",
    "print(\"Expected labels for the test set: \")\n",
    "print(labels_test)"
   ]
  },
  {
   "source": [
    "## Mel Spectrum Frame Energies\n",
    "\n",
    "In an attempt to reduce time complexity, I will be using the frame energies of Mel Spectrum"
   ],
   "cell_type": "markdown",
   "metadata": {}
  },
  {
   "cell_type": "code",
   "execution_count": 592,
   "metadata": {},
   "outputs": [],
   "source": [
    "# Export training data for DSP\n",
    "\n",
    "f = open(\"out.txt\", \"w\")\n",
    "\n",
    "for data in features_train:\n",
    "    for i in range(round(len(data)/2)):\n",
    "        f.write(str(data[i]) + \", \")\n",
    "    f.write(\"\\n\")\n",
    "    for i in range(round(len(data)/2), len(data)):\n",
    "        f.write(str(data[i]) + \", \")\n",
    "    f.write(\"\\n\")"
   ]
  },
  {
   "cell_type": "code",
   "execution_count": 571,
   "metadata": {},
   "outputs": [],
   "source": [
    "# Export training data for DSP\n",
    "\n",
    "f = open(\"out.txt\", \"w\")\n",
    "\n",
    "for data in labels_train:\n",
    "    f.write(str(data))\n",
    "    f.write(\",\\n\")"
   ]
  },
  {
   "cell_type": "code",
   "execution_count": null,
   "metadata": {},
   "outputs": [],
   "source": []
  }
 ],
 "metadata": {
  "kernelspec": {
   "display_name": "Python 3",
   "language": "python",
   "name": "python3"
  },
  "language_info": {
   "codemirror_mode": {
    "name": "ipython",
    "version": 3
   },
   "file_extension": ".py",
   "mimetype": "text/x-python",
   "name": "python",
   "nbconvert_exporter": "python",
   "pygments_lexer": "ipython3",
   "version": "3.8.3-final"
  }
 },
 "nbformat": 4,
 "nbformat_minor": 2
}